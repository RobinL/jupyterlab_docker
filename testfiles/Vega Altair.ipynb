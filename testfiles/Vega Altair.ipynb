{
 "cells": [
  {
   "cell_type": "code",
   "execution_count": 11,
   "metadata": {},
   "outputs": [
    {
     "data": {
      "application/vnd.vegalite.v1+json": {
       "data": {
        "values": [
         {
          "a": "A",
          "b": 28
         },
         {
          "a": "B",
          "b": 55
         },
         {
          "a": "C",
          "b": 43
         },
         {
          "a": "D",
          "b": 91
         },
         {
          "a": "E",
          "b": 81
         },
         {
          "a": "F",
          "b": 53
         },
         {
          "a": "G",
          "b": 19
         },
         {
          "a": "H",
          "b": 87
         },
         {
          "a": "I",
          "b": 52
         }
        ]
       },
       "encoding": {
        "x": {
         "field": "a",
         "type": "ordinal"
        },
        "y": {
         "field": "b",
         "type": "quantitative"
        }
       },
       "mark": "bar"
      },
      "text/plain": [
       "<jupyterlab_vega.VegaLite object>"
      ]
     },
     "metadata": {
      "application/vnd.vegalite.v1+json": null
     },
     "output_type": "display_data"
    }
   ],
   "source": [
    "from jupyterlab_vega import VegaLite\n",
    "\n",
    "spec = {\n",
    "    \"mark\": \"bar\",\n",
    "    \"encoding\": {\n",
    "        \"x\": {\"field\": \"a\", \"type\": \"ordinal\"},\n",
    "        \"y\": {\"field\": \"b\", \"type\": \"quantitative\"}\n",
    "    }\n",
    "}\n",
    "data = [\n",
    "    {\"a\": \"A\", \"b\": 28}, {\"a\": \"B\", \"b\": 55}, {\"a\": \"C\", \"b\": 43},\n",
    "    {\"a\": \"D\", \"b\": 91}, {\"a\": \"E\", \"b\": 81}, {\"a\": \"F\", \"b\": 53},\n",
    "    {\"a\": \"G\", \"b\": 19}, {\"a\": \"H\", \"b\": 87}, {\"a\": \"I\", \"b\": 52}\n",
    "]\n",
    "\n",
    "VegaLite(spec, data)"
   ]
  },
  {
   "cell_type": "code",
   "execution_count": 12,
   "metadata": {},
   "outputs": [
    {
     "data": {
      "application/vnd.vegalite.v1+json": {
       "$schema": "https://vega.github.io/schema/vega-lite/v1.2.1.json",
       "data": {
        "values": [
         {
          "a": "A",
          "b": 28
         },
         {
          "a": "B",
          "b": 55
         },
         {
          "a": "C",
          "b": 43
         },
         {
          "a": "D",
          "b": 91
         },
         {
          "a": "E",
          "b": 81
         },
         {
          "a": "F",
          "b": 53
         },
         {
          "a": "G",
          "b": 19
         },
         {
          "a": "H",
          "b": 87
         },
         {
          "a": "I",
          "b": 52
         }
        ]
       },
       "encoding": {
        "x": {
         "field": "a",
         "type": "nominal"
        },
        "y": {
         "field": "b",
         "type": "quantitative"
        }
       },
       "mark": "point"
      },
      "text/plain": [
       "<altair.VegaLite object>"
      ]
     },
     "execution_count": 12,
     "metadata": {},
     "output_type": "execute_result"
    }
   ],
   "source": [
    "import altair\n",
    "import pandas as pd \n",
    "altair.enable_mime_rendering()\n",
    "\n",
    "import json \n",
    "\n",
    "data = [\n",
    "    {\"a\": \"A\", \"b\": 28}, {\"a\": \"B\", \"b\": 55}, {\"a\": \"C\", \"b\": 43},\n",
    "    {\"a\": \"D\", \"b\": 91}, {\"a\": \"E\", \"b\": 81}, {\"a\": \"F\", \"b\": 53},\n",
    "    {\"a\": \"G\", \"b\": 19}, {\"a\": \"H\", \"b\": 87}, {\"a\": \"I\", \"b\": 52}\n",
    "]\n",
    "\n",
    "df = pd.DataFrame(data)\n",
    "\n",
    "chart.configure_cell(height=200, width=200)\n",
    "chart = altair.Chart(df).mark_point().encode(\n",
    "    x='a',\n",
    "    y='b'\n",
    ")\n",
    "\n",
    "chart"
   ]
  },
  {
   "cell_type": "code",
   "execution_count": 13,
   "metadata": {},
   "outputs": [],
   "source": [
    "with open(\"vegalite.vl.json\", \"w\") as f:\n",
    "    json.dump(chart.to_dict(), f, indent=4)"
   ]
  },
  {
   "cell_type": "code",
   "execution_count": 8,
   "metadata": {},
   "outputs": [],
   "source": [
    "vega_spec = {\n",
    "    \"width\": 400,\n",
    "    \"height\": 200,\n",
    "    \"padding\": {\"top\": 10, \"left\": 30, \"bottom\": 30, \"right\": 10},\n",
    "    \"data\": [\n",
    "        {\n",
    "            \"name\": \"table\",\n",
    "            \"values\": [\n",
    "                {\"x\": 1,  \"y\": 28}, {\"x\": 2,  \"y\": 55},\n",
    "                {\"x\": 3,  \"y\": 43}, {\"x\": 4,  \"y\": 91},\n",
    "                {\"x\": 5,  \"y\": 81}, {\"x\": 6,  \"y\": 53},\n",
    "                {\"x\": 7,  \"y\": 19}, {\"x\": 8,  \"y\": 87},\n",
    "                {\"x\": 9,  \"y\": 52}, {\"x\": 10, \"y\": 48},\n",
    "                {\"x\": 11, \"y\": 24}, {\"x\": 12, \"y\": 49},\n",
    "                {\"x\": 13, \"y\": 87}, {\"x\": 14, \"y\": 66},\n",
    "                {\"x\": 15, \"y\": 17}, {\"x\": 16, \"y\": 27},\n",
    "                {\"x\": 17, \"y\": 68}, {\"x\": 18, \"y\": 16},\n",
    "                {\"x\": 19, \"y\": 49}, {\"x\": 20, \"y\": 15}\n",
    "            ]\n",
    "        }\n",
    "    ],\n",
    "    \"scales\": [\n",
    "        {\n",
    "            \"name\": \"x\",\n",
    "            \"type\": \"ordinal\",\n",
    "            \"range\": \"width\",\n",
    "            \"domain\": {\"data\": \"table\", \"field\": \"x\"}\n",
    "        },\n",
    "        {\n",
    "            \"name\": \"y\",\n",
    "            \"type\": \"linear\",\n",
    "            \"range\": \"height\",\n",
    "            \"domain\": {\"data\": \"table\", \"field\": \"y\"},\n",
    "            \"nice\": True\n",
    "        }\n",
    "    ],\n",
    "    \"axes\": [\n",
    "        {\"type\": \"x\", \"scale\": \"x\"},\n",
    "        {\"type\": \"y\", \"scale\": \"y\"}\n",
    "    ],\n",
    "    \"marks\": [\n",
    "        {\n",
    "            \"type\": \"rect\",\n",
    "            \"from\": {\"data\": \"table\"},\n",
    "            \"properties\": {\n",
    "                \"enter\": {\n",
    "                    \"x\": {\"scale\": \"x\", \"field\": \"x\"},\n",
    "                    \"width\": {\"scale\": \"x\", \"band\": True, \"offset\": -1},\n",
    "                    \"y\": {\"scale\": \"y\", \"field\": \"y\"},\n",
    "                    \"y2\": {\"scale\": \"y\", \"value\": 0}\n",
    "                },\n",
    "                \"update\": {\n",
    "                    \"fill\": {\"value\": \"steelblue\"}\n",
    "                },\n",
    "                \"hover\": {\n",
    "                    \"fill\": {\"value\": \"red\"}\n",
    "                }\n",
    "            }\n",
    "        }\n",
    "    ]\n",
    "}\n",
    "with open(\"vegachart.vg.json\", \"w\") as f:\n",
    "    json.dump(vega_spec, f, indent=4)"
   ]
  },
  {
   "cell_type": "code",
   "execution_count": 14,
   "metadata": {},
   "outputs": [
    {
     "data": {
      "application/vnd.vega.v2+json": {
       "axes": [
        {
         "scale": "x",
         "type": "x"
        },
        {
         "scale": "y",
         "type": "y"
        }
       ],
       "data": [
        {
         "name": "table",
         "values": [
          {
           "x": 1,
           "y": 28
          },
          {
           "x": 2,
           "y": 55
          },
          {
           "x": 3,
           "y": 43
          },
          {
           "x": 4,
           "y": 91
          },
          {
           "x": 5,
           "y": 81
          },
          {
           "x": 6,
           "y": 53
          },
          {
           "x": 7,
           "y": 19
          },
          {
           "x": 8,
           "y": 87
          },
          {
           "x": 9,
           "y": 52
          },
          {
           "x": 10,
           "y": 48
          },
          {
           "x": 11,
           "y": 24
          },
          {
           "x": 12,
           "y": 49
          },
          {
           "x": 13,
           "y": 87
          },
          {
           "x": 14,
           "y": 66
          },
          {
           "x": 15,
           "y": 17
          },
          {
           "x": 16,
           "y": 27
          },
          {
           "x": 17,
           "y": 68
          },
          {
           "x": 18,
           "y": 16
          },
          {
           "x": 19,
           "y": 49
          },
          {
           "x": 20,
           "y": 15
          }
         ]
        }
       ],
       "height": 200,
       "marks": [
        {
         "from": {
          "data": "table"
         },
         "properties": {
          "enter": {
           "width": {
            "band": true,
            "offset": -1,
            "scale": "x"
           },
           "x": {
            "field": "x",
            "scale": "x"
           },
           "y": {
            "field": "y",
            "scale": "y"
           },
           "y2": {
            "scale": "y",
            "value": 0
           }
          },
          "hover": {
           "fill": {
            "value": "red"
           }
          },
          "update": {
           "fill": {
            "value": "steelblue"
           }
          }
         },
         "type": "rect"
        }
       ],
       "padding": {
        "bottom": 30,
        "left": 30,
        "right": 10,
        "top": 10
       },
       "scales": [
        {
         "domain": {
          "data": "table",
          "field": "x"
         },
         "name": "x",
         "range": "width",
         "type": "ordinal"
        },
        {
         "domain": {
          "data": "table",
          "field": "y"
         },
         "name": "y",
         "nice": true,
         "range": "height",
         "type": "linear"
        }
       ],
       "width": 400
      },
      "text/plain": [
       "<jupyterlab_vega.Vega object>"
      ]
     },
     "metadata": {},
     "output_type": "display_data"
    }
   ],
   "source": [
    "from jupyterlab_vega import Vega\n",
    "Vega(vega_spec)"
   ]
  },
  {
   "cell_type": "code",
   "execution_count": 1,
   "metadata": {},
   "outputs": [],
   "source": [
    "import altair"
   ]
  },
  {
   "cell_type": "code",
   "execution_count": null,
   "metadata": {},
   "outputs": [],
   "source": []
  },
  {
   "cell_type": "code",
   "execution_count": null,
   "metadata": {},
   "outputs": [],
   "source": []
  }
 ],
 "metadata": {
  "kernelspec": {
   "display_name": "Python 3",
   "language": "python",
   "name": "python3"
  },
  "language_info": {
   "codemirror_mode": {
    "name": "ipython",
    "version": 3
   },
   "file_extension": ".py",
   "mimetype": "text/x-python",
   "name": "python",
   "nbconvert_exporter": "python",
   "pygments_lexer": "ipython3",
   "version": "3.6.1"
  }
 },
 "nbformat": 4,
 "nbformat_minor": 2
}
